{
 "cells": [
  {
   "cell_type": "code",
   "execution_count": 1,
   "id": "eb52eab2",
   "metadata": {},
   "outputs": [],
   "source": [
    "text=\"\"\"Since we all know the story of the rabbit and the tortoise, this story is perfect for the idiom. But if you don’t know anything about the story let me narrate it. Once there was a tortoise who was slow in running he was always criticized by others for his slow pace.\n",
    "\n",
    "But instead, there was a rabbit in their community who used to run fast. Moreover, everyone praised him for his speed. So to show his skills and to humiliate tortoise the rabbit challenged him for a race. The tortoise accepted the challenge because he never wanted any more humiliation.\n",
    "\n",
    "The race was scheduled after two days. To win the race, the rabbit practiced hard. Moreover, he started celebrating his victory beforehand. The tortoise was humble he had never thought of winning the race. Yet he was eager to give his best.\n",
    "\n",
    "So the race started on the third the day of the challenge. Everyone knew that the rabbit would win. Therefore the rabbit was overconfident of himself. The rabbit ate a lot before the race thinking if he would even walk then also he will win the race. But the tortoise had a determination to give his best.\n",
    "\n",
    "After some time the race started the tortoise was very slow but he kept on moving. On the other hand, the rabbit was running at a very fast pace.\n",
    "\n",
    "Therefore he was able to reach half the distance of the race track within a few minutes. After reaching that distance he thought that he should take rest. So he lied down under a tree to take a little rest. But soon he went to sleep without realizing because he had eaten so much food before the race. While he was sleeping the tortoise constantly moved with time. Neither did he stop nor did he take any rest.\n",
    "\n",
    "Thus he was able to cross the rabbit while he was sleeping. When he was about to reach the finish line the rabbit woke up. He rushed towards the finish line. But it was too late till then the tortoise was much ahead than him. So he crossed the finished line in the first place. The Rabbit cried after losing the race. While the tortoise was celebrating the victory.\n",
    "\n",
    "After reading the story you must be sure that ‘time and tide wait for none’. Because the tortoise worked hard and utilized the time so he was able to succeed in the race. Also, our life is like that only, to achieve success we must work hard with time. Moreover, we should always utilize our time in the best manner. Only then we will be able to achieve success in life.\"\"\""
   ]
  },
  {
   "cell_type": "code",
   "execution_count": 2,
   "id": "2c641455",
   "metadata": {},
   "outputs": [
    {
     "name": "stdout",
     "output_type": "stream",
     "text": [
      "Requirement already satisfied: Spacy in c:\\users\\sijor\\appdata\\local\\programs\\python\\python39\\lib\\site-packages (3.2.1)"
     ]
    },
    {
     "name": "stderr",
     "output_type": "stream",
     "text": [
      "WARNING: You are using pip version 21.1.1; however, version 21.3.1 is available.\n",
      "You should consider upgrading via the 'c:\\users\\sijor\\appdata\\local\\programs\\python\\python39\\python.exe -m pip install --upgrade pip' command.\n"
     ]
    },
    {
     "name": "stdout",
     "output_type": "stream",
     "text": [
      "\n",
      "Requirement already satisfied: murmurhash<1.1.0,>=0.28.0 in c:\\users\\sijor\\appdata\\local\\programs\\python\\python39\\lib\\site-packages (from Spacy) (1.0.5)\n",
      "Requirement already satisfied: typer<0.5.0,>=0.3.0 in c:\\users\\sijor\\appdata\\local\\programs\\python\\python39\\lib\\site-packages (from Spacy) (0.3.2)\n",
      "Requirement already satisfied: langcodes<4.0.0,>=3.2.0 in c:\\users\\sijor\\appdata\\local\\programs\\python\\python39\\lib\\site-packages (from Spacy) (3.3.0)\n",
      "Requirement already satisfied: wasabi<1.1.0,>=0.8.1 in c:\\users\\sijor\\appdata\\local\\programs\\python\\python39\\lib\\site-packages (from Spacy) (0.8.2)\n",
      "Requirement already satisfied: tqdm<5.0.0,>=4.38.0 in c:\\users\\sijor\\appdata\\local\\programs\\python\\python39\\lib\\site-packages (from Spacy) (4.62.0)\n",
      "Requirement already satisfied: numpy>=1.15.0 in c:\\users\\sijor\\appdata\\local\\programs\\python\\python39\\lib\\site-packages (from Spacy) (1.20.3)\n",
      "Requirement already satisfied: jinja2 in c:\\users\\sijor\\appdata\\local\\programs\\python\\python39\\lib\\site-packages (from Spacy) (3.0.1)\n",
      "Requirement already satisfied: pydantic!=1.8,!=1.8.1,<1.9.0,>=1.7.4 in c:\\users\\sijor\\appdata\\local\\programs\\python\\python39\\lib\\site-packages (from Spacy) (1.8.2)\n",
      "Requirement already satisfied: preshed<3.1.0,>=3.0.2 in c:\\users\\sijor\\appdata\\local\\programs\\python\\python39\\lib\\site-packages (from Spacy) (3.0.5)\n",
      "Requirement already satisfied: blis<0.8.0,>=0.4.0 in c:\\users\\sijor\\appdata\\local\\programs\\python\\python39\\lib\\site-packages (from Spacy) (0.7.4)\n",
      "Requirement already satisfied: srsly<3.0.0,>=2.4.1 in c:\\users\\sijor\\appdata\\local\\programs\\python\\python39\\lib\\site-packages (from Spacy) (2.4.1)\n",
      "Requirement already satisfied: catalogue<2.1.0,>=2.0.6 in c:\\users\\sijor\\appdata\\local\\programs\\python\\python39\\lib\\site-packages (from Spacy) (2.0.6)\n",
      "Requirement already satisfied: requests<3.0.0,>=2.13.0 in c:\\users\\sijor\\appdata\\local\\programs\\python\\python39\\lib\\site-packages (from Spacy) (2.26.0)\n",
      "Requirement already satisfied: setuptools in c:\\users\\sijor\\appdata\\local\\programs\\python\\python39\\lib\\site-packages (from Spacy) (56.0.0)\n",
      "Requirement already satisfied: cymem<2.1.0,>=2.0.2 in c:\\users\\sijor\\appdata\\local\\programs\\python\\python39\\lib\\site-packages (from Spacy) (2.0.5)\n",
      "Requirement already satisfied: pathy>=0.3.5 in c:\\users\\sijor\\appdata\\local\\programs\\python\\python39\\lib\\site-packages (from Spacy) (0.6.0)\n",
      "Requirement already satisfied: spacy-loggers<2.0.0,>=1.0.0 in c:\\users\\sijor\\appdata\\local\\programs\\python\\python39\\lib\\site-packages (from Spacy) (1.0.1)\n",
      "Requirement already satisfied: spacy-legacy<3.1.0,>=3.0.8 in c:\\users\\sijor\\appdata\\local\\programs\\python\\python39\\lib\\site-packages (from Spacy) (3.0.8)\n",
      "Requirement already satisfied: thinc<8.1.0,>=8.0.12 in c:\\users\\sijor\\appdata\\local\\programs\\python\\python39\\lib\\site-packages (from Spacy) (8.0.13)\n",
      "Requirement already satisfied: packaging>=20.0 in c:\\users\\sijor\\appdata\\local\\programs\\python\\python39\\lib\\site-packages (from Spacy) (20.9)\n",
      "Requirement already satisfied: pyparsing>=2.0.2 in c:\\users\\sijor\\appdata\\local\\programs\\python\\python39\\lib\\site-packages (from packaging>=20.0->Spacy) (2.4.7)\n",
      "Requirement already satisfied: smart-open<6.0.0,>=5.0.0 in c:\\users\\sijor\\appdata\\local\\programs\\python\\python39\\lib\\site-packages (from pathy>=0.3.5->Spacy) (5.1.0)\n",
      "Requirement already satisfied: typing-extensions>=3.7.4.3 in c:\\users\\sijor\\appdata\\local\\programs\\python\\python39\\lib\\site-packages (from pydantic!=1.8,!=1.8.1,<1.9.0,>=1.7.4->Spacy) (3.10.0.0)\n",
      "Requirement already satisfied: urllib3<1.27,>=1.21.1 in c:\\users\\sijor\\appdata\\local\\programs\\python\\python39\\lib\\site-packages (from requests<3.0.0,>=2.13.0->Spacy) (1.26.6)\n",
      "Requirement already satisfied: certifi>=2017.4.17 in c:\\users\\sijor\\appdata\\local\\programs\\python\\python39\\lib\\site-packages (from requests<3.0.0,>=2.13.0->Spacy) (2021.5.30)\n",
      "Requirement already satisfied: charset-normalizer~=2.0.0 in c:\\users\\sijor\\appdata\\local\\programs\\python\\python39\\lib\\site-packages (from requests<3.0.0,>=2.13.0->Spacy) (2.0.4)\n",
      "Requirement already satisfied: idna<4,>=2.5 in c:\\users\\sijor\\appdata\\local\\programs\\python\\python39\\lib\\site-packages (from requests<3.0.0,>=2.13.0->Spacy) (3.2)\n",
      "Requirement already satisfied: colorama in c:\\users\\sijor\\appdata\\local\\programs\\python\\python39\\lib\\site-packages (from tqdm<5.0.0,>=4.38.0->Spacy) (0.4.4)\n",
      "Requirement already satisfied: click<7.2.0,>=7.1.1 in c:\\users\\sijor\\appdata\\local\\programs\\python\\python39\\lib\\site-packages (from typer<0.5.0,>=0.3.0->Spacy) (7.1.2)\n",
      "Requirement already satisfied: MarkupSafe>=2.0 in c:\\users\\sijor\\appdata\\local\\programs\\python\\python39\\lib\\site-packages (from jinja2->Spacy) (2.0.1)\n",
      "Collecting en-core-web-sm==3.2.0\n",
      "  Downloading https://github.com/explosion/spacy-models/releases/download/en_core_web_sm-3.2.0/en_core_web_sm-3.2.0-py3-none-any.whl (13.9 MB)\n",
      "Requirement already satisfied: spacy<3.3.0,>=3.2.0 in c:\\users\\sijor\\appdata\\local\\programs\\python\\python39\\lib\\site-packages (from en-core-web-sm==3.2.0) (3.2.1)\n",
      "Requirement already satisfied: typer<0.5.0,>=0.3.0 in c:\\users\\sijor\\appdata\\local\\programs\\python\\python39\\lib\\site-packages (from spacy<3.3.0,>=3.2.0->en-core-web-sm==3.2.0) (0.3.2)\n",
      "Requirement already satisfied: preshed<3.1.0,>=3.0.2 in c:\\users\\sijor\\appdata\\local\\programs\\python\\python39\\lib\\site-packages (from spacy<3.3.0,>=3.2.0->en-core-web-sm==3.2.0) (3.0.5)\n",
      "Requirement already satisfied: cymem<2.1.0,>=2.0.2 in c:\\users\\sijor\\appdata\\local\\programs\\python\\python39\\lib\\site-packages (from spacy<3.3.0,>=3.2.0->en-core-web-sm==3.2.0) (2.0.5)\n",
      "Requirement already satisfied: spacy-legacy<3.1.0,>=3.0.8 in c:\\users\\sijor\\appdata\\local\\programs\\python\\python39\\lib\\site-packages (from spacy<3.3.0,>=3.2.0->en-core-web-sm==3.2.0) (3.0.8)\n",
      "Requirement already satisfied: srsly<3.0.0,>=2.4.1 in c:\\users\\sijor\\appdata\\local\\programs\\python\\python39\\lib\\site-packages (from spacy<3.3.0,>=3.2.0->en-core-web-sm==3.2.0) (2.4.1)\n",
      "Requirement already satisfied: pydantic!=1.8,!=1.8.1,<1.9.0,>=1.7.4 in c:\\users\\sijor\\appdata\\local\\programs\\python\\python39\\lib\\site-packages (from spacy<3.3.0,>=3.2.0->en-core-web-sm==3.2.0) (1.8.2)\n",
      "Requirement already satisfied: murmurhash<1.1.0,>=0.28.0 in c:\\users\\sijor\\appdata\\local\\programs\\python\\python39\\lib\\site-packages (from spacy<3.3.0,>=3.2.0->en-core-web-sm==3.2.0) (1.0.5)\n",
      "Requirement already satisfied: catalogue<2.1.0,>=2.0.6 in c:\\users\\sijor\\appdata\\local\\programs\\python\\python39\\lib\\site-packages (from spacy<3.3.0,>=3.2.0->en-core-web-sm==3.2.0) (2.0.6)\n",
      "Requirement already satisfied: wasabi<1.1.0,>=0.8.1 in c:\\users\\sijor\\appdata\\local\\programs\\python\\python39\\lib\\site-packages (from spacy<3.3.0,>=3.2.0->en-core-web-sm==3.2.0) (0.8.2)\n",
      "Requirement already satisfied: thinc<8.1.0,>=8.0.12 in c:\\users\\sijor\\appdata\\local\\programs\\python\\python39\\lib\\site-packages (from spacy<3.3.0,>=3.2.0->en-core-web-sm==3.2.0) (8.0.13)\n",
      "Requirement already satisfied: langcodes<4.0.0,>=3.2.0 in c:\\users\\sijor\\appdata\\local\\programs\\python\\python39\\lib\\site-packages (from spacy<3.3.0,>=3.2.0->en-core-web-sm==3.2.0) (3.3.0)\n",
      "Requirement already satisfied: setuptools in c:\\users\\sijor\\appdata\\local\\programs\\python\\python39\\lib\\site-packages (from spacy<3.3.0,>=3.2.0->en-core-web-sm==3.2.0) (56.0.0)\n",
      "Requirement already satisfied: jinja2 in c:\\users\\sijor\\appdata\\local\\programs\\python\\python39\\lib\\site-packages (from spacy<3.3.0,>=3.2.0->en-core-web-sm==3.2.0) (3.0.1)\n",
      "Requirement already satisfied: packaging>=20.0 in c:\\users\\sijor\\appdata\\local\\programs\\python\\python39\\lib\\site-packages (from spacy<3.3.0,>=3.2.0->en-core-web-sm==3.2.0) (20.9)\n",
      "Requirement already satisfied: requests<3.0.0,>=2.13.0 in c:\\users\\sijor\\appdata\\local\\programs\\python\\python39\\lib\\site-packages (from spacy<3.3.0,>=3.2.0->en-core-web-sm==3.2.0) (2.26.0)\n",
      "Requirement already satisfied: numpy>=1.15.0 in c:\\users\\sijor\\appdata\\local\\programs\\python\\python39\\lib\\site-packages (from spacy<3.3.0,>=3.2.0->en-core-web-sm==3.2.0) (1.20.3)\n",
      "Requirement already satisfied: spacy-loggers<2.0.0,>=1.0.0 in c:\\users\\sijor\\appdata\\local\\programs\\python\\python39\\lib\\site-packages (from spacy<3.3.0,>=3.2.0->en-core-web-sm==3.2.0) (1.0.1)\n",
      "Requirement already satisfied: tqdm<5.0.0,>=4.38.0 in c:\\users\\sijor\\appdata\\local\\programs\\python\\python39\\lib\\site-packages (from spacy<3.3.0,>=3.2.0->en-core-web-sm==3.2.0) (4.62.0)\n",
      "Requirement already satisfied: blis<0.8.0,>=0.4.0 in c:\\users\\sijor\\appdata\\local\\programs\\python\\python39\\lib\\site-packages (from spacy<3.3.0,>=3.2.0->en-core-web-sm==3.2.0) (0.7.4)\n",
      "Requirement already satisfied: pathy>=0.3.5 in c:\\users\\sijor\\appdata\\local\\programs\\python\\python39\\lib\\site-packages (from spacy<3.3.0,>=3.2.0->en-core-web-sm==3.2.0) (0.6.0)\n",
      "Requirement already satisfied: pyparsing>=2.0.2 in c:\\users\\sijor\\appdata\\local\\programs\\python\\python39\\lib\\site-packages (from packaging>=20.0->spacy<3.3.0,>=3.2.0->en-core-web-sm==3.2.0) (2.4.7)\n",
      "Requirement already satisfied: smart-open<6.0.0,>=5.0.0 in c:\\users\\sijor\\appdata\\local\\programs\\python\\python39\\lib\\site-packages (from pathy>=0.3.5->spacy<3.3.0,>=3.2.0->en-core-web-sm==3.2.0) (5.1.0)\n",
      "Requirement already satisfied: typing-extensions>=3.7.4.3 in c:\\users\\sijor\\appdata\\local\\programs\\python\\python39\\lib\\site-packages (from pydantic!=1.8,!=1.8.1,<1.9.0,>=1.7.4->spacy<3.3.0,>=3.2.0->en-core-web-sm==3.2.0) (3.10.0.0)\n",
      "Requirement already satisfied: idna<4,>=2.5 in c:\\users\\sijor\\appdata\\local\\programs\\python\\python39\\lib\\site-packages (from requests<3.0.0,>=2.13.0->spacy<3.3.0,>=3.2.0->en-core-web-sm==3.2.0) (3.2)\n",
      "Requirement already satisfied: certifi>=2017.4.17 in c:\\users\\sijor\\appdata\\local\\programs\\python\\python39\\lib\\site-packages (from requests<3.0.0,>=2.13.0->spacy<3.3.0,>=3.2.0->en-core-web-sm==3.2.0) (2021.5.30)\n",
      "Requirement already satisfied: charset-normalizer~=2.0.0 in c:\\users\\sijor\\appdata\\local\\programs\\python\\python39\\lib\\site-packages (from requests<3.0.0,>=2.13.0->spacy<3.3.0,>=3.2.0->en-core-web-sm==3.2.0) (2.0.4)\n",
      "Requirement already satisfied: urllib3<1.27,>=1.21.1 in c:\\users\\sijor\\appdata\\local\\programs\\python\\python39\\lib\\site-packages (from requests<3.0.0,>=2.13.0->spacy<3.3.0,>=3.2.0->en-core-web-sm==3.2.0) (1.26.6)\n",
      "Requirement already satisfied: colorama in c:\\users\\sijor\\appdata\\local\\programs\\python\\python39\\lib\\site-packages (from tqdm<5.0.0,>=4.38.0->spacy<3.3.0,>=3.2.0->en-core-web-sm==3.2.0) (0.4.4)\n",
      "Requirement already satisfied: click<7.2.0,>=7.1.1 in c:\\users\\sijor\\appdata\\local\\programs\\python\\python39\\lib\\site-packages (from typer<0.5.0,>=0.3.0->spacy<3.3.0,>=3.2.0->en-core-web-sm==3.2.0) (7.1.2)\n",
      "Requirement already satisfied: MarkupSafe>=2.0 in c:\\users\\sijor\\appdata\\local\\programs\\python\\python39\\lib\\site-packages (from jinja2->spacy<3.3.0,>=3.2.0->en-core-web-sm==3.2.0) (2.0.1)\n",
      "[+] Download and installation successful\n",
      "You can now load the package via spacy.load('en_core_web_sm')\n"
     ]
    },
    {
     "name": "stderr",
     "output_type": "stream",
     "text": [
      "WARNING: You are using pip version 21.1.1; however, version 21.3.1 is available.\n",
      "You should consider upgrading via the 'C:\\Users\\sijor\\AppData\\Local\\Programs\\Python\\Python39\\python.exe -m pip install --upgrade pip' command.\n"
     ]
    }
   ],
   "source": [
    "! pip install -U Spacy\n",
    "! python -m spacy download en_core_web_sm "
   ]
  },
  {
   "cell_type": "code",
   "execution_count": 3,
   "id": "ee1e8d53",
   "metadata": {},
   "outputs": [],
   "source": [
    "import spacy\n",
    "from spacy.lang.en.stop_words import STOP_WORDS\n",
    "from string import punctuation"
   ]
  },
  {
   "cell_type": "code",
   "execution_count": 4,
   "id": "0e955b59",
   "metadata": {},
   "outputs": [],
   "source": [
    "stopwords=list(STOP_WORDS)\n"
   ]
  },
  {
   "cell_type": "code",
   "execution_count": 5,
   "id": "952b7abb",
   "metadata": {},
   "outputs": [],
   "source": [
    "nlp=spacy.load('en_core_web_sm')\n"
   ]
  },
  {
   "cell_type": "code",
   "execution_count": 6,
   "id": "6c17e7ee",
   "metadata": {},
   "outputs": [],
   "source": [
    "doc=nlp(text)"
   ]
  },
  {
   "cell_type": "code",
   "execution_count": 7,
   "id": "1ba47f3f",
   "metadata": {},
   "outputs": [
    {
     "name": "stdout",
     "output_type": "stream",
     "text": [
      "['Since', 'we', 'all', 'know', 'the', 'story', 'of', 'the', 'rabbit', 'and', 'the', 'tortoise', ',', 'this', 'story', 'is', 'perfect', 'for', 'the', 'idiom', '.', 'But', 'if', 'you', 'do', 'n’t', 'know', 'anything', 'about', 'the', 'story', 'let', 'me', 'narrate', 'it', '.', 'Once', 'there', 'was', 'a', 'tortoise', 'who', 'was', 'slow', 'in', 'running', 'he', 'was', 'always', 'criticized', 'by', 'others', 'for', 'his', 'slow', 'pace', '.', '\\n\\n', 'But', 'instead', ',', 'there', 'was', 'a', 'rabbit', 'in', 'their', 'community', 'who', 'used', 'to', 'run', 'fast', '.', 'Moreover', ',', 'everyone', 'praised', 'him', 'for', 'his', 'speed', '.', 'So', 'to', 'show', 'his', 'skills', 'and', 'to', 'humiliate', 'tortoise', 'the', 'rabbit', 'challenged', 'him', 'for', 'a', 'race', '.', 'The', 'tortoise', 'accepted', 'the', 'challenge', 'because', 'he', 'never', 'wanted', 'any', 'more', 'humiliation', '.', '\\n\\n', 'The', 'race', 'was', 'scheduled', 'after', 'two', 'days', '.', 'To', 'win', 'the', 'race', ',', 'the', 'rabbit', 'practiced', 'hard', '.', 'Moreover', ',', 'he', 'started', 'celebrating', 'his', 'victory', 'beforehand', '.', 'The', 'tortoise', 'was', 'humble', 'he', 'had', 'never', 'thought', 'of', 'winning', 'the', 'race', '.', 'Yet', 'he', 'was', 'eager', 'to', 'give', 'his', 'best', '.', '\\n\\n', 'So', 'the', 'race', 'started', 'on', 'the', 'third', 'the', 'day', 'of', 'the', 'challenge', '.', 'Everyone', 'knew', 'that', 'the', 'rabbit', 'would', 'win', '.', 'Therefore', 'the', 'rabbit', 'was', 'overconfident', 'of', 'himself', '.', 'The', 'rabbit', 'ate', 'a', 'lot', 'before', 'the', 'race', 'thinking', 'if', 'he', 'would', 'even', 'walk', 'then', 'also', 'he', 'will', 'win', 'the', 'race', '.', 'But', 'the', 'tortoise', 'had', 'a', 'determination', 'to', 'give', 'his', 'best', '.', '\\n\\n', 'After', 'some', 'time', 'the', 'race', 'started', 'the', 'tortoise', 'was', 'very', 'slow', 'but', 'he', 'kept', 'on', 'moving', '.', 'On', 'the', 'other', 'hand', ',', 'the', 'rabbit', 'was', 'running', 'at', 'a', 'very', 'fast', 'pace', '.', '\\n\\n', 'Therefore', 'he', 'was', 'able', 'to', 'reach', 'half', 'the', 'distance', 'of', 'the', 'race', 'track', 'within', 'a', 'few', 'minutes', '.', 'After', 'reaching', 'that', 'distance', 'he', 'thought', 'that', 'he', 'should', 'take', 'rest', '.', 'So', 'he', 'lied', 'down', 'under', 'a', 'tree', 'to', 'take', 'a', 'little', 'rest', '.', 'But', 'soon', 'he', 'went', 'to', 'sleep', 'without', 'realizing', 'because', 'he', 'had', 'eaten', 'so', 'much', 'food', 'before', 'the', 'race', '.', 'While', 'he', 'was', 'sleeping', 'the', 'tortoise', 'constantly', 'moved', 'with', 'time', '.', 'Neither', 'did', 'he', 'stop', 'nor', 'did', 'he', 'take', 'any', 'rest', '.', '\\n\\n', 'Thus', 'he', 'was', 'able', 'to', 'cross', 'the', 'rabbit', 'while', 'he', 'was', 'sleeping', '.', 'When', 'he', 'was', 'about', 'to', 'reach', 'the', 'finish', 'line', 'the', 'rabbit', 'woke', 'up', '.', 'He', 'rushed', 'towards', 'the', 'finish', 'line', '.', 'But', 'it', 'was', 'too', 'late', 'till', 'then', 'the', 'tortoise', 'was', 'much', 'ahead', 'than', 'him', '.', 'So', 'he', 'crossed', 'the', 'finished', 'line', 'in', 'the', 'first', 'place', '.', 'The', 'Rabbit', 'cried', 'after', 'losing', 'the', 'race', '.', 'While', 'the', 'tortoise', 'was', 'celebrating', 'the', 'victory', '.', '\\n\\n', 'After', 'reading', 'the', 'story', 'you', 'must', 'be', 'sure', 'that', '‘', 'time', 'and', 'tide', 'wait', 'for', 'none', '’', '.', 'Because', 'the', 'tortoise', 'worked', 'hard', 'and', 'utilized', 'the', 'time', 'so', 'he', 'was', 'able', 'to', 'succeed', 'in', 'the', 'race', '.', 'Also', ',', 'our', 'life', 'is', 'like', 'that', 'only', ',', 'to', 'achieve', 'success', 'we', 'must', 'work', 'hard', 'with', 'time', '.', 'Moreover', ',', 'we', 'should', 'always', 'utilize', 'our', 'time', 'in', 'the', 'best', 'manner', '.', 'Only', 'then', 'we', 'will', 'be', 'able', 'to', 'achieve', 'success', 'in', 'life', '.']\n"
     ]
    }
   ],
   "source": [
    "tokens=[token.text for token in doc]\n",
    "print(tokens)"
   ]
  },
  {
   "cell_type": "code",
   "execution_count": 8,
   "id": "5cbc5e5a",
   "metadata": {},
   "outputs": [
    {
     "data": {
      "text/plain": [
       "'!\"#$%&\\'()*+,-./:;<=>?@[\\\\]^_`{|}~\\n'"
      ]
     },
     "execution_count": 8,
     "metadata": {},
     "output_type": "execute_result"
    }
   ],
   "source": [
    "punctuation=punctuation + '\\n'\n",
    "punctuation"
   ]
  },
  {
   "cell_type": "code",
   "execution_count": 9,
   "id": "e0d334be",
   "metadata": {},
   "outputs": [],
   "source": [
    "word_frequencies={}\n",
    "for word in doc:\n",
    "    if word.text.lower() not in stopwords:\n",
    "        if word.text.lower() not in punctuation:\n",
    "            if word.text not in word_frequencies.keys():\n",
    "                word_frequencies[word.text]=1\n",
    "            else:\n",
    "                word_frequencies[word.text] +=1"
   ]
  },
  {
   "cell_type": "code",
   "execution_count": 10,
   "id": "e08340e1",
   "metadata": {},
   "outputs": [
    {
     "name": "stdout",
     "output_type": "stream",
     "text": [
      "{'know': 2, 'story': 4, 'rabbit': 10, 'tortoise': 11, 'perfect': 1, 'idiom': 1, 'let': 1, 'narrate': 1, 'slow': 3, 'running': 2, 'criticized': 1, 'pace': 2, '\\n\\n': 7, 'instead': 1, 'community': 1, 'run': 1, 'fast': 2, 'praised': 1, 'speed': 1, 'skills': 1, 'humiliate': 1, 'challenged': 1, 'race': 12, 'accepted': 1, 'challenge': 2, 'wanted': 1, 'humiliation': 1, 'scheduled': 1, 'days': 1, 'win': 3, 'practiced': 1, 'hard': 3, 'started': 3, 'celebrating': 2, 'victory': 2, 'humble': 1, 'thought': 2, 'winning': 1, 'eager': 1, 'best': 3, 'day': 1, 'knew': 1, 'overconfident': 1, 'ate': 1, 'lot': 1, 'thinking': 1, 'walk': 1, 'determination': 1, 'time': 6, 'kept': 1, 'moving': 1, 'hand': 1, 'able': 4, 'reach': 2, 'half': 1, 'distance': 2, 'track': 1, 'minutes': 1, 'reaching': 1, 'rest': 3, 'lied': 1, 'tree': 1, 'little': 1, 'soon': 1, 'went': 1, 'sleep': 1, 'realizing': 1, 'eaten': 1, 'food': 1, 'sleeping': 2, 'constantly': 1, 'moved': 1, 'stop': 1, 'cross': 1, 'finish': 2, 'line': 3, 'woke': 1, 'rushed': 1, 'late': 1, 'till': 1, 'ahead': 1, 'crossed': 1, 'finished': 1, 'place': 1, 'Rabbit': 1, 'cried': 1, 'losing': 1, 'reading': 1, 'sure': 1, '‘': 1, 'tide': 1, 'wait': 1, '’': 1, 'worked': 1, 'utilized': 1, 'succeed': 1, 'life': 2, 'like': 1, 'achieve': 2, 'success': 2, 'work': 1, 'utilize': 1, 'manner': 1}\n"
     ]
    }
   ],
   "source": [
    "print(word_frequencies)"
   ]
  },
  {
   "cell_type": "code",
   "execution_count": 11,
   "id": "4e2db519",
   "metadata": {},
   "outputs": [],
   "source": [
    "max_frequency=max(word_frequencies.values())"
   ]
  },
  {
   "cell_type": "code",
   "execution_count": 12,
   "id": "a1b7f939",
   "metadata": {},
   "outputs": [
    {
     "data": {
      "text/plain": [
       "12"
      ]
     },
     "execution_count": 12,
     "metadata": {},
     "output_type": "execute_result"
    }
   ],
   "source": [
    "max_frequency"
   ]
  },
  {
   "cell_type": "code",
   "execution_count": 13,
   "id": "d5f99f3a",
   "metadata": {},
   "outputs": [],
   "source": [
    "for word in word_frequencies.keys():\n",
    "    word_frequencies[word]=word_frequencies[word]/max_frequency "
   ]
  },
  {
   "cell_type": "code",
   "execution_count": 14,
   "id": "d2bf3042",
   "metadata": {},
   "outputs": [
    {
     "data": {
      "text/plain": [
       "{'know': 0.16666666666666666,\n",
       " 'story': 0.3333333333333333,\n",
       " 'rabbit': 0.8333333333333334,\n",
       " 'tortoise': 0.9166666666666666,\n",
       " 'perfect': 0.08333333333333333,\n",
       " 'idiom': 0.08333333333333333,\n",
       " 'let': 0.08333333333333333,\n",
       " 'narrate': 0.08333333333333333,\n",
       " 'slow': 0.25,\n",
       " 'running': 0.16666666666666666,\n",
       " 'criticized': 0.08333333333333333,\n",
       " 'pace': 0.16666666666666666,\n",
       " '\\n\\n': 0.5833333333333334,\n",
       " 'instead': 0.08333333333333333,\n",
       " 'community': 0.08333333333333333,\n",
       " 'run': 0.08333333333333333,\n",
       " 'fast': 0.16666666666666666,\n",
       " 'praised': 0.08333333333333333,\n",
       " 'speed': 0.08333333333333333,\n",
       " 'skills': 0.08333333333333333,\n",
       " 'humiliate': 0.08333333333333333,\n",
       " 'challenged': 0.08333333333333333,\n",
       " 'race': 1.0,\n",
       " 'accepted': 0.08333333333333333,\n",
       " 'challenge': 0.16666666666666666,\n",
       " 'wanted': 0.08333333333333333,\n",
       " 'humiliation': 0.08333333333333333,\n",
       " 'scheduled': 0.08333333333333333,\n",
       " 'days': 0.08333333333333333,\n",
       " 'win': 0.25,\n",
       " 'practiced': 0.08333333333333333,\n",
       " 'hard': 0.25,\n",
       " 'started': 0.25,\n",
       " 'celebrating': 0.16666666666666666,\n",
       " 'victory': 0.16666666666666666,\n",
       " 'humble': 0.08333333333333333,\n",
       " 'thought': 0.16666666666666666,\n",
       " 'winning': 0.08333333333333333,\n",
       " 'eager': 0.08333333333333333,\n",
       " 'best': 0.25,\n",
       " 'day': 0.08333333333333333,\n",
       " 'knew': 0.08333333333333333,\n",
       " 'overconfident': 0.08333333333333333,\n",
       " 'ate': 0.08333333333333333,\n",
       " 'lot': 0.08333333333333333,\n",
       " 'thinking': 0.08333333333333333,\n",
       " 'walk': 0.08333333333333333,\n",
       " 'determination': 0.08333333333333333,\n",
       " 'time': 0.5,\n",
       " 'kept': 0.08333333333333333,\n",
       " 'moving': 0.08333333333333333,\n",
       " 'hand': 0.08333333333333333,\n",
       " 'able': 0.3333333333333333,\n",
       " 'reach': 0.16666666666666666,\n",
       " 'half': 0.08333333333333333,\n",
       " 'distance': 0.16666666666666666,\n",
       " 'track': 0.08333333333333333,\n",
       " 'minutes': 0.08333333333333333,\n",
       " 'reaching': 0.08333333333333333,\n",
       " 'rest': 0.25,\n",
       " 'lied': 0.08333333333333333,\n",
       " 'tree': 0.08333333333333333,\n",
       " 'little': 0.08333333333333333,\n",
       " 'soon': 0.08333333333333333,\n",
       " 'went': 0.08333333333333333,\n",
       " 'sleep': 0.08333333333333333,\n",
       " 'realizing': 0.08333333333333333,\n",
       " 'eaten': 0.08333333333333333,\n",
       " 'food': 0.08333333333333333,\n",
       " 'sleeping': 0.16666666666666666,\n",
       " 'constantly': 0.08333333333333333,\n",
       " 'moved': 0.08333333333333333,\n",
       " 'stop': 0.08333333333333333,\n",
       " 'cross': 0.08333333333333333,\n",
       " 'finish': 0.16666666666666666,\n",
       " 'line': 0.25,\n",
       " 'woke': 0.08333333333333333,\n",
       " 'rushed': 0.08333333333333333,\n",
       " 'late': 0.08333333333333333,\n",
       " 'till': 0.08333333333333333,\n",
       " 'ahead': 0.08333333333333333,\n",
       " 'crossed': 0.08333333333333333,\n",
       " 'finished': 0.08333333333333333,\n",
       " 'place': 0.08333333333333333,\n",
       " 'Rabbit': 0.08333333333333333,\n",
       " 'cried': 0.08333333333333333,\n",
       " 'losing': 0.08333333333333333,\n",
       " 'reading': 0.08333333333333333,\n",
       " 'sure': 0.08333333333333333,\n",
       " '‘': 0.08333333333333333,\n",
       " 'tide': 0.08333333333333333,\n",
       " 'wait': 0.08333333333333333,\n",
       " '’': 0.08333333333333333,\n",
       " 'worked': 0.08333333333333333,\n",
       " 'utilized': 0.08333333333333333,\n",
       " 'succeed': 0.08333333333333333,\n",
       " 'life': 0.16666666666666666,\n",
       " 'like': 0.08333333333333333,\n",
       " 'achieve': 0.16666666666666666,\n",
       " 'success': 0.16666666666666666,\n",
       " 'work': 0.08333333333333333,\n",
       " 'utilize': 0.08333333333333333,\n",
       " 'manner': 0.08333333333333333}"
      ]
     },
     "execution_count": 14,
     "metadata": {},
     "output_type": "execute_result"
    }
   ],
   "source": [
    "word_frequencies"
   ]
  },
  {
   "cell_type": "code",
   "execution_count": 15,
   "id": "cd17419f",
   "metadata": {},
   "outputs": [
    {
     "name": "stdout",
     "output_type": "stream",
     "text": [
      "[Since we all know the story of the rabbit and the tortoise, this story is perfect for the idiom., But if you don’t know anything about the story let me narrate it., Once there was a tortoise who was slow in running he was always criticized by others for his slow pace., \n",
      "\n",
      "But instead, there was a rabbit in their community who used to run fast., Moreover, everyone praised him for his speed., So to show his skills and to humiliate tortoise the rabbit challenged him for a race., The tortoise accepted the challenge because he never wanted any more humiliation., \n",
      "\n",
      "The race was scheduled after two days., To win the race, the rabbit practiced hard., Moreover, he started celebrating his victory beforehand., The tortoise was humble he had never thought of winning the race., Yet he was eager to give his best., \n",
      "\n",
      "So the race started on the third the day of the challenge., Everyone knew that the rabbit would win., Therefore the rabbit was overconfident of himself., The rabbit ate a lot before the race thinking if he would even walk then also he will win the race., But the tortoise had a determination to give his best., \n",
      "\n",
      "After some time the race started the tortoise was very slow but he kept on moving., On the other hand, the rabbit was running at a very fast pace., \n",
      "\n",
      "Therefore he was able to reach half the distance of the race track within a few minutes., After reaching that distance he thought that he should take rest., So he lied down under a tree to take a little rest., But soon he went to sleep without realizing because he had eaten so much food before the race., While he was sleeping the tortoise constantly moved with time., Neither did he stop nor did he take any rest., \n",
      "\n",
      "Thus he was able to cross the rabbit while he was sleeping., When he was about to reach the finish line the rabbit woke up., He rushed towards the finish line., But it was too late till then the tortoise was much ahead than him., So he crossed the finished line in the first place., The Rabbit cried after losing the race., While the tortoise was celebrating the victory., \n",
      "\n",
      "After reading the story you must be sure that ‘time and tide wait for none’., Because the tortoise worked hard and utilized the time so he was able to succeed in the race., Also, our life is like that only, to achieve success we must work hard with time., Moreover, we should always utilize our time in the best manner., Only then we will be able to achieve success in life.]\n"
     ]
    }
   ],
   "source": [
    "sentence_tokens=[sent for sent in doc.sents]\n",
    "print(sentence_tokens)"
   ]
  },
  {
   "cell_type": "code",
   "execution_count": 16,
   "id": "a2e38228",
   "metadata": {},
   "outputs": [],
   "source": [
    "sentence_score={}\n",
    "for sent in sentence_tokens:\n",
    "    for word in sent:\n",
    "        if word.text.lower() in word_frequencies.keys():\n",
    "            if sent not in sentence_score.keys():\n",
    "                sentence_score[sent]=word_frequencies[word.text.lower()]\n",
    "            else:\n",
    "                sentence_score[sent] += word_frequencies[word.text.lower()]\n",
    "            \n",
    "            "
   ]
  },
  {
   "cell_type": "code",
   "execution_count": 17,
   "id": "f1d9e8b1",
   "metadata": {},
   "outputs": [
    {
     "data": {
      "text/plain": [
       "{Since we all know the story of the rabbit and the tortoise, this story is perfect for the idiom.: 2.7500000000000004,\n",
       " But if you don’t know anything about the story let me narrate it.: 0.6666666666666667,\n",
       " Once there was a tortoise who was slow in running he was always criticized by others for his slow pace.: 1.8333333333333333,\n",
       " \n",
       " \n",
       " But instead, there was a rabbit in their community who used to run fast.: 1.8333333333333333,\n",
       " Moreover, everyone praised him for his speed.: 0.16666666666666666,\n",
       " So to show his skills and to humiliate tortoise the rabbit challenged him for a race.: 3.0,\n",
       " The tortoise accepted the challenge because he never wanted any more humiliation.: 1.3333333333333333,\n",
       " \n",
       " \n",
       " The race was scheduled after two days.: 1.75,\n",
       " To win the race, the rabbit practiced hard.: 2.416666666666667,\n",
       " Moreover, he started celebrating his victory beforehand.: 0.5833333333333333,\n",
       " The tortoise was humble he had never thought of winning the race.: 2.25,\n",
       " Yet he was eager to give his best.: 0.3333333333333333,\n",
       " \n",
       " \n",
       " So the race started on the third the day of the challenge.: 2.0833333333333335,\n",
       " Everyone knew that the rabbit would win.: 1.1666666666666667,\n",
       " Therefore the rabbit was overconfident of himself.: 0.9166666666666667,\n",
       " The rabbit ate a lot before the race thinking if he would even walk then also he will win the race.: 3.416666666666667,\n",
       " But the tortoise had a determination to give his best.: 1.25,\n",
       " \n",
       " \n",
       " After some time the race started the tortoise was very slow but he kept on moving.: 3.666666666666667,\n",
       " On the other hand, the rabbit was running at a very fast pace.: 1.416666666666667,\n",
       " \n",
       " \n",
       " Therefore he was able to reach half the distance of the race track within a few minutes.: 2.5000000000000004,\n",
       " After reaching that distance he thought that he should take rest.: 0.6666666666666666,\n",
       " So he lied down under a tree to take a little rest.: 0.5,\n",
       " But soon he went to sleep without realizing because he had eaten so much food before the race.: 1.5,\n",
       " While he was sleeping the tortoise constantly moved with time.: 1.7499999999999998,\n",
       " Neither did he stop nor did he take any rest.: 0.3333333333333333,\n",
       " \n",
       " \n",
       " Thus he was able to cross the rabbit while he was sleeping.: 2.0,\n",
       " When he was about to reach the finish line the rabbit woke up.: 1.4999999999999998,\n",
       " He rushed towards the finish line.: 0.5,\n",
       " But it was too late till then the tortoise was much ahead than him.: 1.1666666666666665,\n",
       " So he crossed the finished line in the first place.: 0.49999999999999994,\n",
       " The Rabbit cried after losing the race.: 2.0,\n",
       " While the tortoise was celebrating the victory.: 1.25,\n",
       " \n",
       " \n",
       " After reading the story you must be sure that ‘time and tide wait for none’.: 1.9166666666666663,\n",
       " Because the tortoise worked hard and utilized the time so he was able to succeed in the race.: 3.25,\n",
       " Also, our life is like that only, to achieve success we must work hard with time.: 1.4166666666666665,\n",
       " Moreover, we should always utilize our time in the best manner.: 0.9166666666666667,\n",
       " Only then we will be able to achieve success in life.: 0.8333333333333333}"
      ]
     },
     "execution_count": 17,
     "metadata": {},
     "output_type": "execute_result"
    }
   ],
   "source": [
    "sentence_score"
   ]
  },
  {
   "cell_type": "code",
   "execution_count": 18,
   "id": "acb9e24b",
   "metadata": {},
   "outputs": [],
   "source": [
    "from heapq import nlargest"
   ]
  },
  {
   "cell_type": "code",
   "execution_count": 19,
   "id": "42056db4",
   "metadata": {},
   "outputs": [
    {
     "data": {
      "text/plain": [
       "11"
      ]
     },
     "execution_count": 19,
     "metadata": {},
     "output_type": "execute_result"
    }
   ],
   "source": [
    "select_length=int(len(sentence_tokens)*0.3)\n",
    "select_length"
   ]
  },
  {
   "cell_type": "code",
   "execution_count": 20,
   "id": "aefd30e5",
   "metadata": {},
   "outputs": [],
   "source": [
    "summary=nlargest(select_length,sentence_score,key=sentence_score.get)"
   ]
  },
  {
   "cell_type": "code",
   "execution_count": 21,
   "id": "8bfcf9d6",
   "metadata": {},
   "outputs": [
    {
     "data": {
      "text/plain": [
       "[\n",
       " \n",
       " After some time the race started the tortoise was very slow but he kept on moving.,\n",
       " The rabbit ate a lot before the race thinking if he would even walk then also he will win the race.,\n",
       " Because the tortoise worked hard and utilized the time so he was able to succeed in the race.,\n",
       " So to show his skills and to humiliate tortoise the rabbit challenged him for a race.,\n",
       " Since we all know the story of the rabbit and the tortoise, this story is perfect for the idiom.,\n",
       " \n",
       " \n",
       " Therefore he was able to reach half the distance of the race track within a few minutes.,\n",
       " To win the race, the rabbit practiced hard.,\n",
       " The tortoise was humble he had never thought of winning the race.,\n",
       " \n",
       " \n",
       " So the race started on the third the day of the challenge.,\n",
       " \n",
       " \n",
       " Thus he was able to cross the rabbit while he was sleeping.,\n",
       " The Rabbit cried after losing the race.]"
      ]
     },
     "execution_count": 21,
     "metadata": {},
     "output_type": "execute_result"
    }
   ],
   "source": [
    "summary"
   ]
  },
  {
   "cell_type": "code",
   "execution_count": 22,
   "id": "1c331941",
   "metadata": {},
   "outputs": [],
   "source": [
    "final_summary=[word.text for word in summary]"
   ]
  },
  {
   "cell_type": "code",
   "execution_count": 23,
   "id": "839fa6ba",
   "metadata": {},
   "outputs": [],
   "source": [
    "summary=''.join(final_summary)"
   ]
  },
  {
   "cell_type": "code",
   "execution_count": 24,
   "id": "9f03c81d",
   "metadata": {},
   "outputs": [
    {
     "data": {
      "text/plain": [
       "'\\n\\nAfter some time the race started the tortoise was very slow but he kept on moving.The rabbit ate a lot before the race thinking if he would even walk then also he will win the race.Because the tortoise worked hard and utilized the time so he was able to succeed in the race.So to show his skills and to humiliate tortoise the rabbit challenged him for a race.Since we all know the story of the rabbit and the tortoise, this story is perfect for the idiom.\\n\\nTherefore he was able to reach half the distance of the race track within a few minutes.To win the race, the rabbit practiced hard.The tortoise was humble he had never thought of winning the race.\\n\\nSo the race started on the third the day of the challenge.\\n\\nThus he was able to cross the rabbit while he was sleeping.The Rabbit cried after losing the race.'"
      ]
     },
     "execution_count": 24,
     "metadata": {},
     "output_type": "execute_result"
    }
   ],
   "source": [
    "summary"
   ]
  },
  {
   "cell_type": "code",
   "execution_count": 25,
   "id": "8c75261c",
   "metadata": {},
   "outputs": [
    {
     "data": {
      "text/plain": [
       "2401"
      ]
     },
     "execution_count": 25,
     "metadata": {},
     "output_type": "execute_result"
    }
   ],
   "source": [
    "len(text)"
   ]
  },
  {
   "cell_type": "code",
   "execution_count": 26,
   "id": "7d57103a",
   "metadata": {},
   "outputs": [
    {
     "data": {
      "text/plain": [
       "815"
      ]
     },
     "execution_count": 26,
     "metadata": {},
     "output_type": "execute_result"
    }
   ],
   "source": [
    "len(summary)"
   ]
  },
  {
   "cell_type": "code",
   "execution_count": null,
   "id": "1dec0421",
   "metadata": {},
   "outputs": [],
   "source": []
  },
  {
   "cell_type": "code",
   "execution_count": null,
   "id": "d386e51a",
   "metadata": {},
   "outputs": [],
   "source": []
  },
  {
   "cell_type": "code",
   "execution_count": null,
   "id": "2ab705dc",
   "metadata": {},
   "outputs": [],
   "source": []
  },
  {
   "cell_type": "code",
   "execution_count": null,
   "id": "0c0ac9e0",
   "metadata": {},
   "outputs": [],
   "source": []
  }
 ],
 "metadata": {
  "kernelspec": {
   "display_name": "Python 3",
   "language": "python",
   "name": "python3"
  },
  "language_info": {
   "codemirror_mode": {
    "name": "ipython",
    "version": 3
   },
   "file_extension": ".py",
   "mimetype": "text/x-python",
   "name": "python",
   "nbconvert_exporter": "python",
   "pygments_lexer": "ipython3",
   "version": "3.9.5"
  }
 },
 "nbformat": 4,
 "nbformat_minor": 5
}
